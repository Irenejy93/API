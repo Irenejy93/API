{
 "cells": [
  {
   "cell_type": "markdown",
   "metadata": {},
   "source": [
    "This exercise will require you to pull some data from the Qunadl API. Qaundl is currently the most widely used aggregator of financial market data."
   ]
  },
  {
   "cell_type": "markdown",
   "metadata": {},
   "source": [
    "As a first step, you will need to register a free account on the http://www.quandl.com website."
   ]
  },
  {
   "cell_type": "markdown",
   "metadata": {},
   "source": [
    "After you register, you will be provided with a unique API key, that you should store:"
   ]
  },
  {
   "cell_type": "code",
   "execution_count": 1,
   "metadata": {
    "collapsed": true
   },
   "outputs": [],
   "source": [
    "# Store the API key as a string - according to PEP8, constants are always named in all upper case\n",
    "API_KEY = 'v8N-DBa2zKMxAnwz2Mrx'"
   ]
  },
  {
   "cell_type": "markdown",
   "metadata": {},
   "source": [
    "Qaundl has a large number of data sources, but, unfortunately, most of them require a Premium subscription. Still, there are also a good number of free datasets."
   ]
  },
  {
   "cell_type": "markdown",
   "metadata": {},
   "source": [
    "For this mini project, we will focus on equities data from the Frankfurt Stock Exhange (FSE), which is available for free. We'll try and analyze the stock prices of a company called Carl Zeiss Meditec, which manufactures tools for eye examinations, as well as medical lasers for laser eye surgery: https://www.zeiss.com/meditec/int/home.html. The company is listed under the stock ticker AFX_X."
   ]
  },
  {
   "cell_type": "markdown",
   "metadata": {},
   "source": [
    "You can find the detailed Quandl API instructions here: https://docs.quandl.com/docs/time-series"
   ]
  },
  {
   "cell_type": "markdown",
   "metadata": {},
   "source": [
    "While there is a dedicated Python package for connecting to the Quandl API, we would prefer that you use the *requests* package, which can be easily downloaded using *pip* or *conda*. You can find the documentation for the package here: http://docs.python-requests.org/en/master/ "
   ]
  },
  {
   "cell_type": "markdown",
   "metadata": {},
   "source": [
    "Finally, apart from the *requests* package, you are encouraged to not use any third party Python packages, such as *pandas*, and instead focus on what's available in the Python Standard Library (the *collections* module might come in handy: https://pymotw.com/3/collections/).\n",
    "Also, since you won't have access to DataFrames, you are encouraged to us Python's native data structures - preferably dictionaries, though some questions can also be answered using lists.\n",
    "You can read more on these data structures here: https://docs.python.org/3/tutorial/datastructures.html"
   ]
  },
  {
   "cell_type": "markdown",
   "metadata": {},
   "source": [
    "Keep in mind that the JSON responses you will be getting from the API map almost one-to-one to Python's dictionaries. Unfortunately, they can be very nested, so make sure you read up on indexing dictionaries in the documentation provided above."
   ]
  },
  {
   "cell_type": "code",
   "execution_count": 47,
   "metadata": {},
   "outputs": [],
   "source": [
    "# First, import the relevant modules\n",
    "import requests\n",
    "import json\n",
    "import operator\n",
    "import pandas as pd"
   ]
  },
  {
   "cell_type": "code",
   "execution_count": 2,
   "metadata": {},
   "outputs": [],
   "source": [
    "# Now, call the Quandl API and pull out a small sample of the data (only one day) to get a glimpse\n",
    "# into the JSON structure that will be returned\n",
    "url = \"https://www.quandl.com/api/v3/datasets/FSE/AFX_X?start_date=2018-01-01&end_date=2018-01-02&api_key=v8N-DBa2zKMxAnwz2Mrx\"\n",
    "request = requests.get(url)\n"
   ]
  },
  {
   "cell_type": "code",
   "execution_count": 3,
   "metadata": {},
   "outputs": [],
   "source": [
    "json_file = request.json()"
   ]
  },
  {
   "cell_type": "code",
   "execution_count": 4,
   "metadata": {},
   "outputs": [],
   "source": [
    "# Inspect the JSON structure of the object you created, and take note of how nested it is,\n",
    "# as well as the overall structure\n",
    "json_dict = dict(json_file)"
   ]
  },
  {
   "cell_type": "markdown",
   "metadata": {
    "collapsed": true
   },
   "source": [
    " # 1.Collect data from the Franfurt Stock Exchange, for the ticker AFX_X, for the whole year 2017 (keep in mind that the date format is YYYY-MM-DD)."
   ]
  },
  {
   "cell_type": "code",
   "execution_count": 5,
   "metadata": {},
   "outputs": [],
   "source": [
    "'''Get the Zeiss Meditec stock data for the year of 2017 by specifiying the start_date=2017-01-01 \n",
    "and end_date=2018-01-01'''\n",
    "url_2017 = \"https://www.quandl.com/api/v3/datasets/FSE/AFX_X?start_date=2017-01-01&end_date=2018-01-01&api_key=v8N-DBa2zKMxAnwz2Mrx\"\n",
    "# Requesting the data using the requests package\n",
    "request_2017 = requests.get(url_2017)"
   ]
  },
  {
   "cell_type": "code",
   "execution_count": 6,
   "metadata": {},
   "outputs": [],
   "source": [
    "#Converting the data into Json file\n",
    "Zeiss_Meditec_Json_file = request_2017.json()"
   ]
  },
  {
   "cell_type": "markdown",
   "metadata": {},
   "source": [
    "# 2.Convert the returned JSON object into a Python dictionary."
   ]
  },
  {
   "cell_type": "code",
   "execution_count": 7,
   "metadata": {},
   "outputs": [],
   "source": [
    "#Converting the json file into dictionary\n",
    "Zeiss_Meditec_Dict_file = dict(Zeiss_Meditec_Json_file)"
   ]
  },
  {
   "cell_type": "markdown",
   "metadata": {},
   "source": [
    "######    The column names and the data are seperate in the file and there is so much redundant information in the dictionary file so we can seperate the columns and data and zip them togather to get more clean data"
   ]
  },
  {
   "cell_type": "code",
   "execution_count": 8,
   "metadata": {},
   "outputs": [],
   "source": [
    "#Getting column names\n",
    "column_names = Zeiss_Meditec_Dict_file['dataset']['column_names'][1:]"
   ]
  },
  {
   "cell_type": "code",
   "execution_count": 9,
   "metadata": {
    "scrolled": false
   },
   "outputs": [],
   "source": [
    "#Getting stock data\n",
    "data=Zeiss_Meditec_Dict_file['dataset']['data']"
   ]
  },
  {
   "cell_type": "code",
   "execution_count": 10,
   "metadata": {
    "scrolled": true
   },
   "outputs": [],
   "source": [
    "#Creating a data dictionary with date as key and stock information for the day as values \n",
    "data_dict = {}\n",
    "for i in data:\n",
    "    if i[0] in data_dict:\n",
    "        data_dict[i[0]].append(i[1:])\n",
    "    else:\n",
    "        data_dict[i[0]]=i[1:]"
   ]
  },
  {
   "cell_type": "code",
   "execution_count": 11,
   "metadata": {},
   "outputs": [],
   "source": [
    "#zipping the column names to the day values\n",
    "for key in data_dict.keys():\n",
    "    data_dict[key] = dict(zip(column_names, data_dict[key]))\n"
   ]
  },
  {
   "cell_type": "code",
   "execution_count": 70,
   "metadata": {},
   "outputs": [],
   "source": [
    "data1 = pd.DataFrame(data_dict)"
   ]
  },
  {
   "cell_type": "code",
   "execution_count": 74,
   "metadata": {},
   "outputs": [
    {
     "data": {
      "text/html": [
       "<div>\n",
       "<style scoped>\n",
       "    .dataframe tbody tr th:only-of-type {\n",
       "        vertical-align: middle;\n",
       "    }\n",
       "\n",
       "    .dataframe tbody tr th {\n",
       "        vertical-align: top;\n",
       "    }\n",
       "\n",
       "    .dataframe thead th {\n",
       "        text-align: right;\n",
       "    }\n",
       "</style>\n",
       "<table border=\"1\" class=\"dataframe\">\n",
       "  <thead>\n",
       "    <tr style=\"text-align: right;\">\n",
       "      <th></th>\n",
       "      <th>2017-12-29</th>\n",
       "      <th>2017-12-28</th>\n",
       "      <th>2017-12-27</th>\n",
       "      <th>2017-12-22</th>\n",
       "      <th>2017-12-21</th>\n",
       "      <th>2017-12-20</th>\n",
       "      <th>2017-12-19</th>\n",
       "      <th>2017-12-18</th>\n",
       "      <th>2017-12-15</th>\n",
       "      <th>2017-12-14</th>\n",
       "      <th>...</th>\n",
       "      <th>2017-01-13</th>\n",
       "      <th>2017-01-12</th>\n",
       "      <th>2017-01-11</th>\n",
       "      <th>2017-01-10</th>\n",
       "      <th>2017-01-09</th>\n",
       "      <th>2017-01-06</th>\n",
       "      <th>2017-01-05</th>\n",
       "      <th>2017-01-04</th>\n",
       "      <th>2017-01-03</th>\n",
       "      <th>2017-01-02</th>\n",
       "    </tr>\n",
       "  </thead>\n",
       "  <tbody>\n",
       "    <tr>\n",
       "      <th>Change</th>\n",
       "      <td>NaN</td>\n",
       "      <td>NaN</td>\n",
       "      <td>NaN</td>\n",
       "      <td>NaN</td>\n",
       "      <td>NaN</td>\n",
       "      <td>NaN</td>\n",
       "      <td>NaN</td>\n",
       "      <td>NaN</td>\n",
       "      <td>NaN</td>\n",
       "      <td>NaN</td>\n",
       "      <td>...</td>\n",
       "      <td>NaN</td>\n",
       "      <td>NaN</td>\n",
       "      <td>NaN</td>\n",
       "      <td>NaN</td>\n",
       "      <td>NaN</td>\n",
       "      <td>NaN</td>\n",
       "      <td>NaN</td>\n",
       "      <td>NaN</td>\n",
       "      <td>NaN</td>\n",
       "      <td>NaN</td>\n",
       "    </tr>\n",
       "    <tr>\n",
       "      <th>Close</th>\n",
       "      <td>51.76</td>\n",
       "      <td>51.60</td>\n",
       "      <td>51.82</td>\n",
       "      <td>51.32</td>\n",
       "      <td>51.40</td>\n",
       "      <td>51.27</td>\n",
       "      <td>51.66</td>\n",
       "      <td>52.62</td>\n",
       "      <td>52.01</td>\n",
       "      <td>52.67</td>\n",
       "      <td>...</td>\n",
       "      <td>34.85</td>\n",
       "      <td>34.90</td>\n",
       "      <td>35.42</td>\n",
       "      <td>34.91</td>\n",
       "      <td>34.67</td>\n",
       "      <td>35.04</td>\n",
       "      <td>35.06</td>\n",
       "      <td>35.19</td>\n",
       "      <td>35.48</td>\n",
       "      <td>35.80</td>\n",
       "    </tr>\n",
       "    <tr>\n",
       "      <th>Daily Traded Units</th>\n",
       "      <td>NaN</td>\n",
       "      <td>NaN</td>\n",
       "      <td>NaN</td>\n",
       "      <td>NaN</td>\n",
       "      <td>NaN</td>\n",
       "      <td>NaN</td>\n",
       "      <td>NaN</td>\n",
       "      <td>NaN</td>\n",
       "      <td>NaN</td>\n",
       "      <td>NaN</td>\n",
       "      <td>...</td>\n",
       "      <td>NaN</td>\n",
       "      <td>NaN</td>\n",
       "      <td>NaN</td>\n",
       "      <td>NaN</td>\n",
       "      <td>NaN</td>\n",
       "      <td>NaN</td>\n",
       "      <td>NaN</td>\n",
       "      <td>NaN</td>\n",
       "      <td>NaN</td>\n",
       "      <td>NaN</td>\n",
       "    </tr>\n",
       "    <tr>\n",
       "      <th>Daily Turnover</th>\n",
       "      <td>NaN</td>\n",
       "      <td>NaN</td>\n",
       "      <td>NaN</td>\n",
       "      <td>NaN</td>\n",
       "      <td>NaN</td>\n",
       "      <td>NaN</td>\n",
       "      <td>NaN</td>\n",
       "      <td>NaN</td>\n",
       "      <td>NaN</td>\n",
       "      <td>NaN</td>\n",
       "      <td>...</td>\n",
       "      <td>NaN</td>\n",
       "      <td>NaN</td>\n",
       "      <td>NaN</td>\n",
       "      <td>NaN</td>\n",
       "      <td>NaN</td>\n",
       "      <td>NaN</td>\n",
       "      <td>NaN</td>\n",
       "      <td>NaN</td>\n",
       "      <td>NaN</td>\n",
       "      <td>NaN</td>\n",
       "    </tr>\n",
       "    <tr>\n",
       "      <th>High</th>\n",
       "      <td>51.94</td>\n",
       "      <td>51.82</td>\n",
       "      <td>51.89</td>\n",
       "      <td>51.50</td>\n",
       "      <td>51.52</td>\n",
       "      <td>52.04</td>\n",
       "      <td>52.73</td>\n",
       "      <td>52.75</td>\n",
       "      <td>52.70</td>\n",
       "      <td>53.54</td>\n",
       "      <td>...</td>\n",
       "      <td>34.98</td>\n",
       "      <td>35.38</td>\n",
       "      <td>36.00</td>\n",
       "      <td>34.98</td>\n",
       "      <td>35.35</td>\n",
       "      <td>35.21</td>\n",
       "      <td>35.20</td>\n",
       "      <td>35.51</td>\n",
       "      <td>35.93</td>\n",
       "      <td>35.94</td>\n",
       "    </tr>\n",
       "    <tr>\n",
       "      <th>Last Price of the Day</th>\n",
       "      <td>NaN</td>\n",
       "      <td>NaN</td>\n",
       "      <td>NaN</td>\n",
       "      <td>NaN</td>\n",
       "      <td>NaN</td>\n",
       "      <td>NaN</td>\n",
       "      <td>NaN</td>\n",
       "      <td>NaN</td>\n",
       "      <td>NaN</td>\n",
       "      <td>NaN</td>\n",
       "      <td>...</td>\n",
       "      <td>NaN</td>\n",
       "      <td>NaN</td>\n",
       "      <td>NaN</td>\n",
       "      <td>NaN</td>\n",
       "      <td>NaN</td>\n",
       "      <td>NaN</td>\n",
       "      <td>NaN</td>\n",
       "      <td>NaN</td>\n",
       "      <td>NaN</td>\n",
       "      <td>NaN</td>\n",
       "    </tr>\n",
       "    <tr>\n",
       "      <th>Low</th>\n",
       "      <td>51.45</td>\n",
       "      <td>51.43</td>\n",
       "      <td>50.76</td>\n",
       "      <td>50.92</td>\n",
       "      <td>50.90</td>\n",
       "      <td>51.20</td>\n",
       "      <td>51.07</td>\n",
       "      <td>51.61</td>\n",
       "      <td>51.64</td>\n",
       "      <td>52.15</td>\n",
       "      <td>...</td>\n",
       "      <td>34.60</td>\n",
       "      <td>34.31</td>\n",
       "      <td>34.84</td>\n",
       "      <td>34.46</td>\n",
       "      <td>34.43</td>\n",
       "      <td>34.91</td>\n",
       "      <td>34.73</td>\n",
       "      <td>34.75</td>\n",
       "      <td>35.34</td>\n",
       "      <td>34.99</td>\n",
       "    </tr>\n",
       "    <tr>\n",
       "      <th>Open</th>\n",
       "      <td>51.76</td>\n",
       "      <td>51.65</td>\n",
       "      <td>51.45</td>\n",
       "      <td>51.05</td>\n",
       "      <td>51.16</td>\n",
       "      <td>51.88</td>\n",
       "      <td>52.73</td>\n",
       "      <td>52.37</td>\n",
       "      <td>52.70</td>\n",
       "      <td>53.11</td>\n",
       "      <td>...</td>\n",
       "      <td>34.98</td>\n",
       "      <td>35.38</td>\n",
       "      <td>34.95</td>\n",
       "      <td>34.80</td>\n",
       "      <td>35.29</td>\n",
       "      <td>34.91</td>\n",
       "      <td>35.02</td>\n",
       "      <td>35.48</td>\n",
       "      <td>35.90</td>\n",
       "      <td>34.99</td>\n",
       "    </tr>\n",
       "    <tr>\n",
       "      <th>Traded Volume</th>\n",
       "      <td>34640.00</td>\n",
       "      <td>40660.00</td>\n",
       "      <td>57452.00</td>\n",
       "      <td>71165.00</td>\n",
       "      <td>120649.00</td>\n",
       "      <td>50587.00</td>\n",
       "      <td>137313.00</td>\n",
       "      <td>129733.00</td>\n",
       "      <td>204080.00</td>\n",
       "      <td>132981.00</td>\n",
       "      <td>...</td>\n",
       "      <td>59367.00</td>\n",
       "      <td>163860.00</td>\n",
       "      <td>123530.00</td>\n",
       "      <td>43976.00</td>\n",
       "      <td>62225.00</td>\n",
       "      <td>27507.00</td>\n",
       "      <td>48412.00</td>\n",
       "      <td>54408.00</td>\n",
       "      <td>70618.00</td>\n",
       "      <td>44700.00</td>\n",
       "    </tr>\n",
       "    <tr>\n",
       "      <th>Turnover</th>\n",
       "      <td>1792304.00</td>\n",
       "      <td>2099024.00</td>\n",
       "      <td>2957018.00</td>\n",
       "      <td>3641949.00</td>\n",
       "      <td>6179433.00</td>\n",
       "      <td>2610258.00</td>\n",
       "      <td>7102361.00</td>\n",
       "      <td>6770499.00</td>\n",
       "      <td>10596319.00</td>\n",
       "      <td>7016953.00</td>\n",
       "      <td>...</td>\n",
       "      <td>2065534.00</td>\n",
       "      <td>5703427.00</td>\n",
       "      <td>4369079.00</td>\n",
       "      <td>1528055.00</td>\n",
       "      <td>2157182.00</td>\n",
       "      <td>964046.00</td>\n",
       "      <td>1692326.00</td>\n",
       "      <td>1906810.00</td>\n",
       "      <td>2515473.00</td>\n",
       "      <td>1590561.00</td>\n",
       "    </tr>\n",
       "  </tbody>\n",
       "</table>\n",
       "<p>10 rows × 255 columns</p>\n",
       "</div>"
      ],
      "text/plain": [
       "                       2017-12-29  2017-12-28  2017-12-27  2017-12-22  \\\n",
       "Change                        NaN         NaN         NaN         NaN   \n",
       "Close                       51.76       51.60       51.82       51.32   \n",
       "Daily Traded Units            NaN         NaN         NaN         NaN   \n",
       "Daily Turnover                NaN         NaN         NaN         NaN   \n",
       "High                        51.94       51.82       51.89       51.50   \n",
       "Last Price of the Day         NaN         NaN         NaN         NaN   \n",
       "Low                         51.45       51.43       50.76       50.92   \n",
       "Open                        51.76       51.65       51.45       51.05   \n",
       "Traded Volume            34640.00    40660.00    57452.00    71165.00   \n",
       "Turnover               1792304.00  2099024.00  2957018.00  3641949.00   \n",
       "\n",
       "                       2017-12-21  2017-12-20  2017-12-19  2017-12-18  \\\n",
       "Change                        NaN         NaN         NaN         NaN   \n",
       "Close                       51.40       51.27       51.66       52.62   \n",
       "Daily Traded Units            NaN         NaN         NaN         NaN   \n",
       "Daily Turnover                NaN         NaN         NaN         NaN   \n",
       "High                        51.52       52.04       52.73       52.75   \n",
       "Last Price of the Day         NaN         NaN         NaN         NaN   \n",
       "Low                         50.90       51.20       51.07       51.61   \n",
       "Open                        51.16       51.88       52.73       52.37   \n",
       "Traded Volume           120649.00    50587.00   137313.00   129733.00   \n",
       "Turnover               6179433.00  2610258.00  7102361.00  6770499.00   \n",
       "\n",
       "                        2017-12-15  2017-12-14     ...      2017-01-13  \\\n",
       "Change                         NaN         NaN     ...             NaN   \n",
       "Close                        52.01       52.67     ...           34.85   \n",
       "Daily Traded Units             NaN         NaN     ...             NaN   \n",
       "Daily Turnover                 NaN         NaN     ...             NaN   \n",
       "High                         52.70       53.54     ...           34.98   \n",
       "Last Price of the Day          NaN         NaN     ...             NaN   \n",
       "Low                          51.64       52.15     ...           34.60   \n",
       "Open                         52.70       53.11     ...           34.98   \n",
       "Traded Volume            204080.00   132981.00     ...        59367.00   \n",
       "Turnover               10596319.00  7016953.00     ...      2065534.00   \n",
       "\n",
       "                       2017-01-12  2017-01-11  2017-01-10  2017-01-09  \\\n",
       "Change                        NaN         NaN         NaN         NaN   \n",
       "Close                       34.90       35.42       34.91       34.67   \n",
       "Daily Traded Units            NaN         NaN         NaN         NaN   \n",
       "Daily Turnover                NaN         NaN         NaN         NaN   \n",
       "High                        35.38       36.00       34.98       35.35   \n",
       "Last Price of the Day         NaN         NaN         NaN         NaN   \n",
       "Low                         34.31       34.84       34.46       34.43   \n",
       "Open                        35.38       34.95       34.80       35.29   \n",
       "Traded Volume           163860.00   123530.00    43976.00    62225.00   \n",
       "Turnover               5703427.00  4369079.00  1528055.00  2157182.00   \n",
       "\n",
       "                       2017-01-06  2017-01-05  2017-01-04  2017-01-03  \\\n",
       "Change                        NaN         NaN         NaN         NaN   \n",
       "Close                       35.04       35.06       35.19       35.48   \n",
       "Daily Traded Units            NaN         NaN         NaN         NaN   \n",
       "Daily Turnover                NaN         NaN         NaN         NaN   \n",
       "High                        35.21       35.20       35.51       35.93   \n",
       "Last Price of the Day         NaN         NaN         NaN         NaN   \n",
       "Low                         34.91       34.73       34.75       35.34   \n",
       "Open                        34.91       35.02       35.48       35.90   \n",
       "Traded Volume            27507.00    48412.00    54408.00    70618.00   \n",
       "Turnover                964046.00  1692326.00  1906810.00  2515473.00   \n",
       "\n",
       "                       2017-01-02  \n",
       "Change                        NaN  \n",
       "Close                       35.80  \n",
       "Daily Traded Units            NaN  \n",
       "Daily Turnover                NaN  \n",
       "High                        35.94  \n",
       "Last Price of the Day         NaN  \n",
       "Low                         34.99  \n",
       "Open                        34.99  \n",
       "Traded Volume            44700.00  \n",
       "Turnover               1590561.00  \n",
       "\n",
       "[10 rows x 255 columns]"
      ]
     },
     "execution_count": 74,
     "metadata": {},
     "output_type": "execute_result"
    }
   ],
   "source": [
    "data1"
   ]
  },
  {
   "cell_type": "code",
   "execution_count": 79,
   "metadata": {},
   "outputs": [
    {
     "name": "stdout",
     "output_type": "stream",
     "text": [
      "53.11\n"
     ]
    }
   ],
   "source": [
    "#3. Calculate what the highest and lowest opening prices were for the stock in this period.\n",
    "max = data1.loc['Open'].max()\n",
    "print(max)\n",
    "min=data1.loc['Open'].min()\n",
    "print(min)"
   ]
  },
  {
   "cell_type": "code",
   "execution_count": 84,
   "metadata": {},
   "outputs": [
    {
     "name": "stdout",
     "output_type": "stream",
     "text": [
      "2.8100000000000023\n"
     ]
    }
   ],
   "source": [
    "# 4.  What was the largest change in any one day (based on High and Low price)?\n",
    "high = data1.loc['High']\n",
    "low = data1.loc['Low']\n",
    "largestchange = (high-low).max()\n",
    "print(largestchange)"
   ]
  },
  {
   "cell_type": "code",
   "execution_count": 86,
   "metadata": {},
   "outputs": [
    {
     "name": "stdout",
     "output_type": "stream",
     "text": [
      "19.03\n"
     ]
    }
   ],
   "source": [
    "# 5. What was the largest change between any two days (based on Closing Price)?\n",
    "closemax = data1.loc['Close'].max()\n",
    "closemin = data1.loc['Close'].min()\n",
    "print(closemax - closemin)"
   ]
  },
  {
   "cell_type": "code",
   "execution_count": 92,
   "metadata": {},
   "outputs": [
    {
     "name": "stdout",
     "output_type": "stream",
     "text": [
      "89124.33725490196\n"
     ]
    }
   ],
   "source": [
    "#6. What was the average daily trading volume during this year?\n",
    "trade =data1.loc['Traded Volume']\n",
    "print(trade.mean())"
   ]
  },
  {
   "cell_type": "code",
   "execution_count": 98,
   "metadata": {},
   "outputs": [],
   "source": [
    "#7. (Optional) What was the median trading volume during this year. \n",
    "#(Note: you may need to implement your own function for calculating the median.)\n",
    "def median(row):\n",
    "    n = len(row)\n",
    "    if n % 2 == 1:\n",
    "            return sorted(row)[n//2]\n",
    "    else:\n",
    "            return sum(sorted(row)[n//2-1:n//2+1])/2.0"
   ]
  },
  {
   "cell_type": "code",
   "execution_count": 99,
   "metadata": {},
   "outputs": [
    {
     "data": {
      "text/plain": [
       "76286.0"
      ]
     },
     "execution_count": 99,
     "metadata": {},
     "output_type": "execute_result"
    }
   ],
   "source": [
    "median(trade)"
   ]
  },
  {
   "cell_type": "code",
   "execution_count": null,
   "metadata": {},
   "outputs": [],
   "source": []
  }
 ],
 "metadata": {
  "kernelspec": {
   "display_name": "Python 3",
   "language": "python",
   "name": "python3"
  },
  "language_info": {
   "codemirror_mode": {
    "name": "ipython",
    "version": 3
   },
   "file_extension": ".py",
   "mimetype": "text/x-python",
   "name": "python",
   "nbconvert_exporter": "python",
   "pygments_lexer": "ipython3",
   "version": "3.7.1"
  }
 },
 "nbformat": 4,
 "nbformat_minor": 2
}
